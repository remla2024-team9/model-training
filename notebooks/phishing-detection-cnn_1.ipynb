{
 "cells": [
  {
   "cell_type": "markdown",
   "id": "28a9710f",
   "metadata": {
    "papermill": {
     "duration": 0.005123,
     "end_time": "2024-04-08T10:36:54.102760",
     "exception": false,
     "start_time": "2024-04-08T10:36:54.097637",
     "status": "completed"
    },
    "tags": []
   },
   "source": [
    "**Importing the Libraries**"
   ]
  },
  {
   "cell_type": "code",
   "execution_count": 1,
   "id": "31c08a88",
   "metadata": {
    "execution": {
     "iopub.execute_input": "2024-04-08T10:36:54.113373Z",
     "iopub.status.busy": "2024-04-08T10:36:54.113115Z",
     "iopub.status.idle": "2024-04-08T10:37:14.254036Z",
     "shell.execute_reply": "2024-04-08T10:37:14.252827Z"
    },
    "papermill": {
     "duration": 20.149981,
     "end_time": "2024-04-08T10:37:14.257560",
     "exception": false,
     "start_time": "2024-04-08T10:36:54.107579",
     "status": "completed"
    },
    "tags": []
   },
   "outputs": [
    {
     "name": "stderr",
     "output_type": "stream",
     "text": [
      "2024-04-08 10:36:59.012070: E external/local_xla/xla/stream_executor/cuda/cuda_dnn.cc:9261] Unable to register cuDNN factory: Attempting to register factory for plugin cuDNN when one has already been registered\n",
      "2024-04-08 10:36:59.012172: E external/local_xla/xla/stream_executor/cuda/cuda_fft.cc:607] Unable to register cuFFT factory: Attempting to register factory for plugin cuFFT when one has already been registered\n",
      "2024-04-08 10:36:59.266478: E external/local_xla/xla/stream_executor/cuda/cuda_blas.cc:1515] Unable to register cuBLAS factory: Attempting to register factory for plugin cuBLAS when one has already been registered\n"
     ]
    }
   ],
   "source": [
    "from sklearn.preprocessing import LabelEncoder\n",
    "from tensorflow.keras.preprocessing.text import Tokenizer\n",
    "import numpy as np\n",
    "import pandas as pd\n",
    "from tensorflow.keras.preprocessing.sequence import pad_sequences\n",
    "import matplotlib.pyplot as plt\n",
    "from keras.models import Sequential\n",
    "from keras.layers import Dense, Dropout, Embedding, Conv1D, MaxPooling1D, Flatten\n",
    "from keras.preprocessing.sequence import pad_sequences\n",
    "from sklearn.preprocessing import LabelEncoder\n",
    "from sklearn.metrics import classification_report, confusion_matrix"
   ]
  },
  {
   "cell_type": "markdown",
   "id": "420e658b",
   "metadata": {
    "papermill": {
     "duration": 0.006434,
     "end_time": "2024-04-08T10:37:14.271980",
     "exception": false,
     "start_time": "2024-04-08T10:37:14.265546",
     "status": "completed"
    },
    "tags": []
   },
   "source": [
    "**Loading the Dataset**"
   ]
  },
  {
   "cell_type": "code",
   "execution_count": 2,
   "id": "ea710576",
   "metadata": {
    "execution": {
     "iopub.execute_input": "2024-04-08T10:37:14.288222Z",
     "iopub.status.busy": "2024-04-08T10:37:14.287390Z",
     "iopub.status.idle": "2024-04-08T10:37:18.724588Z",
     "shell.execute_reply": "2024-04-08T10:37:18.723495Z"
    },
    "papermill": {
     "duration": 4.448392,
     "end_time": "2024-04-08T10:37:18.727236",
     "exception": false,
     "start_time": "2024-04-08T10:37:14.278844",
     "status": "completed"
    },
    "tags": []
   },
   "outputs": [],
   "source": [
    "train = [line.strip() for line in open(\"/kaggle/input/dl-dataset/DL Dataset/train.txt\", \"r\").readlines()[1:]]\n",
    "raw_x_train = [line.split(\"\\t\")[1] for line in train]\n",
    "raw_y_train = [line.split(\"\\t\")[0] for line in train]\n",
    "\n",
    "test = [line.strip() for line in open(\"/kaggle/input/dl-dataset/DL Dataset/test.txt\", \"r\").readlines()]\n",
    "raw_x_test = [line.split(\"\\t\")[1] for line in test]\n",
    "raw_y_test = [line.split(\"\\t\")[0] for line in test]\n",
    "\n",
    "val=[line.strip() for line in open(\"/kaggle/input/dl-dataset/DL Dataset/val.txt\", \"r\").readlines()]\n",
    "raw_x_val=[line.split(\"\\t\")[1] for line in val]\n",
    "raw_y_val=[line.split(\"\\t\")[0] for line in val]\n"
   ]
  },
  {
   "cell_type": "markdown",
   "id": "5e17e238",
   "metadata": {
    "papermill": {
     "duration": 0.00503,
     "end_time": "2024-04-08T10:37:18.737775",
     "exception": false,
     "start_time": "2024-04-08T10:37:18.732745",
     "status": "completed"
    },
    "tags": []
   },
   "source": [
    "**Tokenizing the Dataset**"
   ]
  },
  {
   "cell_type": "code",
   "execution_count": 3,
   "id": "61bc0c52",
   "metadata": {
    "execution": {
     "iopub.execute_input": "2024-04-08T10:37:18.749454Z",
     "iopub.status.busy": "2024-04-08T10:37:18.749154Z",
     "iopub.status.idle": "2024-04-08T10:39:18.354286Z",
     "shell.execute_reply": "2024-04-08T10:39:18.353238Z"
    },
    "papermill": {
     "duration": 119.613949,
     "end_time": "2024-04-08T10:39:18.356905",
     "exception": false,
     "start_time": "2024-04-08T10:37:18.742956",
     "status": "completed"
    },
    "tags": []
   },
   "outputs": [],
   "source": [
    "tokenizer = Tokenizer(lower=True, char_level=True, oov_token='-n-')\n",
    "tokenizer.fit_on_texts(raw_x_train + raw_x_val + raw_x_test)\n",
    "char_index = tokenizer.word_index\n",
    "sequence_length=200\n",
    "x_train = pad_sequences(tokenizer.texts_to_sequences(raw_x_train), maxlen=sequence_length)\n",
    "x_val = pad_sequences(tokenizer.texts_to_sequences(raw_x_val), maxlen=sequence_length)\n",
    "x_test = pad_sequences(tokenizer.texts_to_sequences(raw_x_test), maxlen=sequence_length)\n",
    "\n",
    "encoder = LabelEncoder()\n",
    "\n",
    "y_train = encoder.fit_transform(raw_y_train)\n",
    "y_val = encoder.transform(raw_y_val)\n",
    "y_test = encoder.transform(raw_y_test)"
   ]
  },
  {
   "cell_type": "markdown",
   "id": "3dc826fc",
   "metadata": {
    "papermill": {
     "duration": 0.004845,
     "end_time": "2024-04-08T10:39:18.367053",
     "exception": false,
     "start_time": "2024-04-08T10:39:18.362208",
     "status": "completed"
    },
    "tags": []
   },
   "source": [
    "**Parameters**"
   ]
  },
  {
   "cell_type": "code",
   "execution_count": 4,
   "id": "40753362",
   "metadata": {
    "execution": {
     "iopub.execute_input": "2024-04-08T10:39:18.378107Z",
     "iopub.status.busy": "2024-04-08T10:39:18.377777Z",
     "iopub.status.idle": "2024-04-08T10:39:18.382683Z",
     "shell.execute_reply": "2024-04-08T10:39:18.381844Z"
    },
    "papermill": {
     "duration": 0.012737,
     "end_time": "2024-04-08T10:39:18.384717",
     "exception": false,
     "start_time": "2024-04-08T10:39:18.371980",
     "status": "completed"
    },
    "tags": []
   },
   "outputs": [],
   "source": [
    "params = {'loss_function': 'binary_crossentropy',\n",
    "                       'optimizer': 'adam',\n",
    "                       'sequence_length': 200,\n",
    "                       'batch_train': 5000,\n",
    "                       'batch_test': 5000,\n",
    "                       'categories': ['phishing', 'legitimate'],\n",
    "                       'char_index': None,\n",
    "                       'epoch': 30,\n",
    "                       'embedding_dimension': 50,\n",
    "                       'dataset_dir': \"../dataset/small_dataset/\"}"
   ]
  },
  {
   "cell_type": "markdown",
   "id": "c88c7763",
   "metadata": {
    "papermill": {
     "duration": 0.004756,
     "end_time": "2024-04-08T10:39:18.394492",
     "exception": false,
     "start_time": "2024-04-08T10:39:18.389736",
     "status": "completed"
    },
    "tags": []
   },
   "source": [
    "**Model Definition**"
   ]
  },
  {
   "cell_type": "code",
   "execution_count": 5,
   "id": "203548dd",
   "metadata": {
    "execution": {
     "iopub.execute_input": "2024-04-08T10:39:18.405327Z",
     "iopub.status.busy": "2024-04-08T10:39:18.405062Z",
     "iopub.status.idle": "2024-04-08T10:39:19.495878Z",
     "shell.execute_reply": "2024-04-08T10:39:19.495020Z"
    },
    "papermill": {
     "duration": 1.098852,
     "end_time": "2024-04-08T10:39:19.498127",
     "exception": false,
     "start_time": "2024-04-08T10:39:18.399275",
     "status": "completed"
    },
    "tags": []
   },
   "outputs": [
    {
     "name": "stdout",
     "output_type": "stream",
     "text": [
      "voc_size: 71\n"
     ]
    }
   ],
   "source": [
    "from keras.models import Sequential\n",
    "from keras.layers import Embedding, Conv1D, MaxPooling1D, Flatten, Dense\n",
    "model = Sequential()\n",
    "voc_size = len(char_index.keys())\n",
    "print(\"voc_size: {}\".format(voc_size))\n",
    "model.add(Embedding(voc_size + 1, 50))\n",
    "\n",
    "model.add(Conv1D(128, 3, activation='tanh'))\n",
    "model.add(MaxPooling1D(3))\n",
    "model.add(Dropout(0.2))\n",
    "\n",
    "model.add(Conv1D(128, 7, activation='tanh', padding='same'))\n",
    "model.add(Dropout(0.2))\n",
    "\n",
    "model.add(Conv1D(128, 5, activation='tanh', padding='same'))\n",
    "model.add(Dropout(0.2))\n",
    "\n",
    "model.add(Conv1D(128, 3, activation='tanh', padding='same'))\n",
    "model.add(MaxPooling1D(3))\n",
    "model.add(Dropout(0.2))\n",
    "\n",
    "model.add(Conv1D(128, 5, activation='tanh', padding='same'))\n",
    "model.add(Dropout(0.2))\n",
    "\n",
    "model.add(Conv1D(128, 3, activation='tanh', padding='same'))\n",
    "model.add(MaxPooling1D(3))\n",
    "model.add(Dropout(0.2))\n",
    "\n",
    "model.add(Conv1D(128, 3, activation='tanh', padding='same'))\n",
    "model.add(MaxPooling1D(3))\n",
    "model.add(Dropout(0.2))\n",
    "\n",
    "model.add(Flatten())\n",
    "\n",
    "model.add(Dense(len(params['categories'])-1, activation='sigmoid'))\n",
    "\n"
   ]
  },
  {
   "cell_type": "markdown",
   "id": "49902052",
   "metadata": {
    "papermill": {
     "duration": 0.005401,
     "end_time": "2024-04-08T10:39:19.508512",
     "exception": false,
     "start_time": "2024-04-08T10:39:19.503111",
     "status": "completed"
    },
    "tags": []
   },
   "source": [
    "**Training**"
   ]
  },
  {
   "cell_type": "code",
   "execution_count": 6,
   "id": "41b45c2d",
   "metadata": {
    "execution": {
     "iopub.execute_input": "2024-04-08T10:39:19.520759Z",
     "iopub.status.busy": "2024-04-08T10:39:19.520045Z",
     "iopub.status.idle": "2024-04-08T11:20:01.655108Z",
     "shell.execute_reply": "2024-04-08T11:20:01.654086Z"
    },
    "papermill": {
     "duration": 2442.586416,
     "end_time": "2024-04-08T11:20:02.100789",
     "exception": false,
     "start_time": "2024-04-08T10:39:19.514373",
     "status": "completed"
    },
    "tags": []
   },
   "outputs": [
    {
     "name": "stdout",
     "output_type": "stream",
     "text": [
      "Epoch 1/30\n"
     ]
    },
    {
     "name": "stderr",
     "output_type": "stream",
     "text": [
      "WARNING: All log messages before absl::InitializeLog() is called are written to STDERR\n",
      "I0000 00:00:1712572822.952045      74 device_compiler.h:186] Compiled cluster using XLA!  This line is logged at most once for the lifetime of the process.\n"
     ]
    },
    {
     "name": "stdout",
     "output_type": "stream",
     "text": [
      "\u001b[1m210/210\u001b[0m \u001b[32m━━━━━━━━━━━━━━━━━━━━\u001b[0m\u001b[37m\u001b[0m \u001b[1m158s\u001b[0m 456ms/step - accuracy: 0.7712 - loss: 0.4474 - val_accuracy: 0.9245 - val_loss: 0.1902\n",
      "Epoch 2/30\n",
      "\u001b[1m210/210\u001b[0m \u001b[32m━━━━━━━━━━━━━━━━━━━━\u001b[0m\u001b[37m\u001b[0m \u001b[1m78s\u001b[0m 371ms/step - accuracy: 0.9416 - loss: 0.1461 - val_accuracy: 0.9562 - val_loss: 0.1100\n",
      "Epoch 3/30\n",
      "\u001b[1m210/210\u001b[0m \u001b[32m━━━━━━━━━━━━━━━━━━━━\u001b[0m\u001b[37m\u001b[0m \u001b[1m78s\u001b[0m 371ms/step - accuracy: 0.9518 - loss: 0.1211 - val_accuracy: 0.9604 - val_loss: 0.1002\n",
      "Epoch 4/30\n",
      "\u001b[1m210/210\u001b[0m \u001b[32m━━━━━━━━━━━━━━━━━━━━\u001b[0m\u001b[37m\u001b[0m \u001b[1m78s\u001b[0m 371ms/step - accuracy: 0.9578 - loss: 0.1062 - val_accuracy: 0.9665 - val_loss: 0.0855\n",
      "Epoch 5/30\n",
      "\u001b[1m210/210\u001b[0m \u001b[32m━━━━━━━━━━━━━━━━━━━━\u001b[0m\u001b[37m\u001b[0m \u001b[1m78s\u001b[0m 372ms/step - accuracy: 0.9612 - loss: 0.0977 - val_accuracy: 0.9641 - val_loss: 0.0942\n",
      "Epoch 6/30\n",
      "\u001b[1m210/210\u001b[0m \u001b[32m━━━━━━━━━━━━━━━━━━━━\u001b[0m\u001b[37m\u001b[0m \u001b[1m82s\u001b[0m 372ms/step - accuracy: 0.9638 - loss: 0.0905 - val_accuracy: 0.9682 - val_loss: 0.0829\n",
      "Epoch 7/30\n",
      "\u001b[1m210/210\u001b[0m \u001b[32m━━━━━━━━━━━━━━━━━━━━\u001b[0m\u001b[37m\u001b[0m \u001b[1m78s\u001b[0m 371ms/step - accuracy: 0.9668 - loss: 0.0852 - val_accuracy: 0.9717 - val_loss: 0.0733\n",
      "Epoch 8/30\n",
      "\u001b[1m210/210\u001b[0m \u001b[32m━━━━━━━━━━━━━━━━━━━━\u001b[0m\u001b[37m\u001b[0m \u001b[1m78s\u001b[0m 372ms/step - accuracy: 0.9672 - loss: 0.0829 - val_accuracy: 0.9719 - val_loss: 0.0731\n",
      "Epoch 9/30\n",
      "\u001b[1m210/210\u001b[0m \u001b[32m━━━━━━━━━━━━━━━━━━━━\u001b[0m\u001b[37m\u001b[0m \u001b[1m78s\u001b[0m 372ms/step - accuracy: 0.9691 - loss: 0.0784 - val_accuracy: 0.9683 - val_loss: 0.0821\n",
      "Epoch 10/30\n",
      "\u001b[1m210/210\u001b[0m \u001b[32m━━━━━━━━━━━━━━━━━━━━\u001b[0m\u001b[37m\u001b[0m \u001b[1m78s\u001b[0m 372ms/step - accuracy: 0.9692 - loss: 0.0784 - val_accuracy: 0.9685 - val_loss: 0.0827\n",
      "Epoch 11/30\n",
      "\u001b[1m210/210\u001b[0m \u001b[32m━━━━━━━━━━━━━━━━━━━━\u001b[0m\u001b[37m\u001b[0m \u001b[1m82s\u001b[0m 372ms/step - accuracy: 0.9704 - loss: 0.0748 - val_accuracy: 0.9750 - val_loss: 0.0652\n",
      "Epoch 12/30\n",
      "\u001b[1m210/210\u001b[0m \u001b[32m━━━━━━━━━━━━━━━━━━━━\u001b[0m\u001b[37m\u001b[0m \u001b[1m78s\u001b[0m 371ms/step - accuracy: 0.9716 - loss: 0.0724 - val_accuracy: 0.9749 - val_loss: 0.0645\n",
      "Epoch 13/30\n",
      "\u001b[1m210/210\u001b[0m \u001b[32m━━━━━━━━━━━━━━━━━━━━\u001b[0m\u001b[37m\u001b[0m \u001b[1m78s\u001b[0m 371ms/step - accuracy: 0.9721 - loss: 0.0708 - val_accuracy: 0.9755 - val_loss: 0.0640\n",
      "Epoch 14/30\n",
      "\u001b[1m210/210\u001b[0m \u001b[32m━━━━━━━━━━━━━━━━━━━━\u001b[0m\u001b[37m\u001b[0m \u001b[1m78s\u001b[0m 372ms/step - accuracy: 0.9730 - loss: 0.0691 - val_accuracy: 0.9765 - val_loss: 0.0612\n",
      "Epoch 15/30\n",
      "\u001b[1m210/210\u001b[0m \u001b[32m━━━━━━━━━━━━━━━━━━━━\u001b[0m\u001b[37m\u001b[0m \u001b[1m78s\u001b[0m 372ms/step - accuracy: 0.9738 - loss: 0.0673 - val_accuracy: 0.9766 - val_loss: 0.0616\n",
      "Epoch 16/30\n",
      "\u001b[1m210/210\u001b[0m \u001b[32m━━━━━━━━━━━━━━━━━━━━\u001b[0m\u001b[37m\u001b[0m \u001b[1m78s\u001b[0m 371ms/step - accuracy: 0.9744 - loss: 0.0657 - val_accuracy: 0.9765 - val_loss: 0.0621\n",
      "Epoch 17/30\n",
      "\u001b[1m210/210\u001b[0m \u001b[32m━━━━━━━━━━━━━━━━━━━━\u001b[0m\u001b[37m\u001b[0m \u001b[1m78s\u001b[0m 372ms/step - accuracy: 0.9744 - loss: 0.0658 - val_accuracy: 0.9774 - val_loss: 0.0590\n",
      "Epoch 18/30\n",
      "\u001b[1m210/210\u001b[0m \u001b[32m━━━━━━━━━━━━━━━━━━━━\u001b[0m\u001b[37m\u001b[0m \u001b[1m78s\u001b[0m 371ms/step - accuracy: 0.9747 - loss: 0.0647 - val_accuracy: 0.9779 - val_loss: 0.0584\n",
      "Epoch 19/30\n",
      "\u001b[1m210/210\u001b[0m \u001b[32m━━━━━━━━━━━━━━━━━━━━\u001b[0m\u001b[37m\u001b[0m \u001b[1m78s\u001b[0m 372ms/step - accuracy: 0.9756 - loss: 0.0628 - val_accuracy: 0.9783 - val_loss: 0.0571\n",
      "Epoch 20/30\n",
      "\u001b[1m210/210\u001b[0m \u001b[32m━━━━━━━━━━━━━━━━━━━━\u001b[0m\u001b[37m\u001b[0m \u001b[1m78s\u001b[0m 372ms/step - accuracy: 0.9760 - loss: 0.0619 - val_accuracy: 0.9760 - val_loss: 0.0641\n",
      "Epoch 21/30\n",
      "\u001b[1m210/210\u001b[0m \u001b[32m━━━━━━━━━━━━━━━━━━━━\u001b[0m\u001b[37m\u001b[0m \u001b[1m82s\u001b[0m 372ms/step - accuracy: 0.9763 - loss: 0.0607 - val_accuracy: 0.9778 - val_loss: 0.0588\n",
      "Epoch 22/30\n",
      "\u001b[1m210/210\u001b[0m \u001b[32m━━━━━━━━━━━━━━━━━━━━\u001b[0m\u001b[37m\u001b[0m \u001b[1m78s\u001b[0m 371ms/step - accuracy: 0.9767 - loss: 0.0604 - val_accuracy: 0.9792 - val_loss: 0.0550\n",
      "Epoch 23/30\n",
      "\u001b[1m210/210\u001b[0m \u001b[32m━━━━━━━━━━━━━━━━━━━━\u001b[0m\u001b[37m\u001b[0m \u001b[1m82s\u001b[0m 372ms/step - accuracy: 0.9764 - loss: 0.0605 - val_accuracy: 0.9777 - val_loss: 0.0591\n",
      "Epoch 24/30\n",
      "\u001b[1m210/210\u001b[0m \u001b[32m━━━━━━━━━━━━━━━━━━━━\u001b[0m\u001b[37m\u001b[0m \u001b[1m78s\u001b[0m 371ms/step - accuracy: 0.9773 - loss: 0.0587 - val_accuracy: 0.9787 - val_loss: 0.0563\n",
      "Epoch 25/30\n",
      "\u001b[1m210/210\u001b[0m \u001b[32m━━━━━━━━━━━━━━━━━━━━\u001b[0m\u001b[37m\u001b[0m \u001b[1m78s\u001b[0m 372ms/step - accuracy: 0.9769 - loss: 0.0592 - val_accuracy: 0.9777 - val_loss: 0.0589\n",
      "Epoch 26/30\n",
      "\u001b[1m210/210\u001b[0m \u001b[32m━━━━━━━━━━━━━━━━━━━━\u001b[0m\u001b[37m\u001b[0m \u001b[1m78s\u001b[0m 371ms/step - accuracy: 0.9770 - loss: 0.0591 - val_accuracy: 0.9788 - val_loss: 0.0561\n",
      "Epoch 27/30\n",
      "\u001b[1m210/210\u001b[0m \u001b[32m━━━━━━━━━━━━━━━━━━━━\u001b[0m\u001b[37m\u001b[0m \u001b[1m78s\u001b[0m 372ms/step - accuracy: 0.9779 - loss: 0.0567 - val_accuracy: 0.9798 - val_loss: 0.0536\n",
      "Epoch 28/30\n",
      "\u001b[1m210/210\u001b[0m \u001b[32m━━━━━━━━━━━━━━━━━━━━\u001b[0m\u001b[37m\u001b[0m \u001b[1m78s\u001b[0m 372ms/step - accuracy: 0.9779 - loss: 0.0567 - val_accuracy: 0.9801 - val_loss: 0.0528\n",
      "Epoch 29/30\n",
      "\u001b[1m210/210\u001b[0m \u001b[32m━━━━━━━━━━━━━━━━━━━━\u001b[0m\u001b[37m\u001b[0m \u001b[1m82s\u001b[0m 372ms/step - accuracy: 0.9783 - loss: 0.0560 - val_accuracy: 0.9798 - val_loss: 0.0542\n",
      "Epoch 30/30\n",
      "\u001b[1m210/210\u001b[0m \u001b[32m━━━━━━━━━━━━━━━━━━━━\u001b[0m\u001b[37m\u001b[0m \u001b[1m78s\u001b[0m 371ms/step - accuracy: 0.9787 - loss: 0.0551 - val_accuracy: 0.9796 - val_loss: 0.0539\n"
     ]
    }
   ],
   "source": [
    "model.compile(loss=params['loss_function'], optimizer=params['optimizer'], metrics=['accuracy'])\n",
    "\n",
    "\n",
    "hist = model.fit(x_train, y_train,\n",
    "                batch_size=params['batch_train'],\n",
    "                epochs=params['epoch'],\n",
    "                shuffle=True,\n",
    "                validation_data=(x_val, y_val)\n",
    "                )\n"
   ]
  },
  {
   "cell_type": "markdown",
   "id": "3386bbf3",
   "metadata": {
    "papermill": {
     "duration": 0.508192,
     "end_time": "2024-04-08T11:20:03.129225",
     "exception": false,
     "start_time": "2024-04-08T11:20:02.621033",
     "status": "completed"
    },
    "tags": []
   },
   "source": [
    "**Prediction**"
   ]
  },
  {
   "cell_type": "code",
   "execution_count": 7,
   "id": "8a39ee28",
   "metadata": {
    "execution": {
     "iopub.execute_input": "2024-04-08T11:20:04.193005Z",
     "iopub.status.busy": "2024-04-08T11:20:04.192252Z",
     "iopub.status.idle": "2024-04-08T11:20:15.050734Z",
     "shell.execute_reply": "2024-04-08T11:20:15.049591Z"
    },
    "papermill": {
     "duration": 11.370894,
     "end_time": "2024-04-08T11:20:15.052869",
     "exception": false,
     "start_time": "2024-04-08T11:20:03.681975",
     "status": "completed"
    },
    "tags": []
   },
   "outputs": [
    {
     "name": "stdout",
     "output_type": "stream",
     "text": [
      "\u001b[1m365/365\u001b[0m \u001b[32m━━━━━━━━━━━━━━━━━━━━\u001b[0m\u001b[37m\u001b[0m \u001b[1m10s\u001b[0m 20ms/step\n",
      "[[3.6889405e-04]\n",
      " [9.9973828e-01]\n",
      " [9.9922335e-01]\n",
      " ...\n",
      " [3.4388027e-04]\n",
      " [9.9908054e-01]\n",
      " [9.9637204e-01]]\n"
     ]
    }
   ],
   "source": [
    "y_pred = model.predict(x_test, batch_size=1000)\n",
    "print(y_pred)\n",
    "\n"
   ]
  },
  {
   "cell_type": "markdown",
   "id": "156b6ecc",
   "metadata": {
    "papermill": {
     "duration": 0.561323,
     "end_time": "2024-04-08T11:20:16.128394",
     "exception": false,
     "start_time": "2024-04-08T11:20:15.567071",
     "status": "completed"
    },
    "tags": []
   },
   "source": [
    "**Prediction**"
   ]
  },
  {
   "cell_type": "code",
   "execution_count": 8,
   "id": "af1029b4",
   "metadata": {
    "execution": {
     "iopub.execute_input": "2024-04-08T11:20:17.162249Z",
     "iopub.status.busy": "2024-04-08T11:20:17.161905Z",
     "iopub.status.idle": "2024-04-08T11:20:17.387286Z",
     "shell.execute_reply": "2024-04-08T11:20:17.386132Z"
    },
    "papermill": {
     "duration": 0.745579,
     "end_time": "2024-04-08T11:20:17.389866",
     "exception": false,
     "start_time": "2024-04-08T11:20:16.644287",
     "status": "completed"
    },
    "tags": []
   },
   "outputs": [
    {
     "name": "stdout",
     "output_type": "stream",
     "text": [
      "Classification Report:\n",
      "              precision    recall  f1-score   support\n",
      "\n",
      "           0       0.98      0.99      0.98    201736\n",
      "           1       0.98      0.98      0.98    162463\n",
      "\n",
      "    accuracy                           0.98    364199\n",
      "   macro avg       0.98      0.98      0.98    364199\n",
      "weighted avg       0.98      0.98      0.98    364199\n",
      "\n",
      "Confusion Matrix: [[198880   2856]\n",
      " [  3607 158856]]\n",
      "Accuracy: 0.9822542071779439\n"
     ]
    }
   ],
   "source": [
    "from sklearn.metrics import classification_report, confusion_matrix,accuracy_score\n",
    "\n",
    "# Convert predicted probabilities to binary labels\n",
    "y_pred_binary = (np.array(y_pred) > 0.5).astype(int)\n",
    "y_test=y_test.reshape(-1,1)\n",
    "\n",
    "# Calculate classification report\n",
    "report = classification_report(y_test, y_pred_binary)\n",
    "print('Classification Report:')\n",
    "print(report)\n",
    "\n",
    "# Calculate confusion matrix\n",
    "confusion_mat = confusion_matrix(y_test, y_pred_binary)\n",
    "print('Confusion Matrix:', confusion_mat)\n",
    "print('Accuracy:',accuracy_score(y_test,y_pred_binary))"
   ]
  },
  {
   "cell_type": "markdown",
   "id": "d070ccf7",
   "metadata": {
    "papermill": {
     "duration": 0.516267,
     "end_time": "2024-04-08T11:20:18.424918",
     "exception": false,
     "start_time": "2024-04-08T11:20:17.908651",
     "status": "completed"
    },
    "tags": []
   },
   "source": [
    "**Confusion Matrix **"
   ]
  },
  {
   "cell_type": "code",
   "execution_count": 9,
   "id": "e124b010",
   "metadata": {
    "execution": {
     "iopub.execute_input": "2024-04-08T11:20:19.498569Z",
     "iopub.status.busy": "2024-04-08T11:20:19.498233Z",
     "iopub.status.idle": "2024-04-08T11:20:20.302926Z",
     "shell.execute_reply": "2024-04-08T11:20:20.302081Z"
    },
    "papermill": {
     "duration": 1.320454,
     "end_time": "2024-04-08T11:20:20.305004",
     "exception": false,
     "start_time": "2024-04-08T11:20:18.984550",
     "status": "completed"
    },
    "tags": []
   },
   "outputs": [
    {
     "data": {
      "text/plain": [
       "<Axes: >"
      ]
     },
     "execution_count": 9,
     "metadata": {},
     "output_type": "execute_result"
    },
    {
     "data": {
      "image/png": "[encoded data removed]",
      "text/plain": [
       "<Figure size 640x480 with 2 Axes>"
      ]
     },
     "metadata": {},
     "output_type": "display_data"
    }
   ],
   "source": [
    "import seaborn as sns\n",
    "sns.heatmap(confusion_mat,annot=True)"
   ]
  }
 ],
 "metadata": {
  "kaggle": {
   "accelerator": "nvidiaTeslaT4",
   "dataSources": [
    {
     "datasetId": 4696964,
     "sourceId": 7980464,
     "sourceType": "datasetVersion"
    }
   ],
   "dockerImageVersionId": 30673,
   "isGpuEnabled": true,
   "isInternetEnabled": true,
   "language": "python",
   "sourceType": "notebook"
  },
  "kernelspec": {
   "display_name": "Python 3",
   "language": "python",
   "name": "python3"
  },
  "language_info": {
   "codemirror_mode": {
    "name": "ipython",
    "version": 3
   },
   "file_extension": ".py",
   "mimetype": "text/x-python",
   "name": "python",
   "nbconvert_exporter": "python",
   "pygments_lexer": "ipython3",
   "version": "3.10.13"
  },
  "papermill": {
   "default_parameters": {},
   "duration": 2614.079851,
   "end_time": "2024-04-08T11:20:24.523528",
   "environment_variables": {},
   "exception": null,
   "input_path": "__notebook__.ipynb",
   "output_path": "__notebook__.ipynb",
   "parameters": {},
   "start_time": "2024-04-08T10:36:50.443677",
   "version": "2.5.0"
  }
 },
 "nbformat": 4,
 "nbformat_minor": 5
}
